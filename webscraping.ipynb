{
 "cells": [
  {
   "cell_type": "code",
   "execution_count": 362,
   "metadata": {},
   "outputs": [],
   "source": [
    "from selenium.webdriver import Chrome\n",
    "from selenium import webdriver\n",
    "from selenium.webdriver.common.by import  By\n",
    "import click\n",
    "import pandas as pd"
   ]
  },
  {
   "cell_type": "code",
   "execution_count": 75,
   "metadata": {},
   "outputs": [],
   "source": [
    "from selenium import webdriver\n",
    "from selenium.webdriver.common.by import By\n",
    "import pandas as pd\n",
    "\n",
    "# Chrome web sürücüsünü başlat\n",
    "browser = webdriver.Chrome()\n",
    "\n",
    "# Belirtilen URL'ye git\n",
    "browser.get(\"https://www.emlakjet.com/satilik-konut/istanbul/\")\n",
    "\n",
    "# Sayfa yüklenene kadar bekleyebilirsiniz\n",
    "# Örnek olarak, 5 saniye bekleyelim\n",
    "browser.implicitly_wait(5)\n",
    "\n",
    "# Detaylar, fiyatlar ve konumlar için boş liste oluşturun\n",
    "detaylar = []\n",
    "fiyatlar = []\n",
    "konumlar = []\n",
    "\n",
    "# İlk 50 sayfa için döngüyü ayarlayın\n",
    "i = 1\n",
    "while i <= 50:\n",
    "    # Belirtilen CSS seçiciler ile eşleşen öğeleri bulun\n",
    "    hk = browser.find_elements(By.CSS_SELECTOR, '._2UELHn')\n",
    "    halil = browser.find_elements(By.CSS_SELECTOR, ' ._2C5UCT')\n",
    "    konum = browser.find_elements(By.CSS_SELECTOR, '._2wVG12')\n",
    "\n",
    "    # Detaylar, fiyatlar ve konumları listelere ekleyin\n",
    "    for detay, fiyat, konum in zip(hk, halil, konum):\n",
    "        detaylar.append(detay.text)\n",
    "        fiyatlar.append(fiyat.text)\n",
    "        konumlar.append(konum.text)\n",
    "\n",
    "    \n",
    "    i += 1\n",
    "\n",
    "# Web sürücüyü kapat\n",
    "browser.quit()\n",
    "\n",
    "\n",
    "\n",
    "\n",
    "\n"
   ]
  },
  {
   "cell_type": "code",
   "execution_count": 76,
   "metadata": {},
   "outputs": [],
   "source": [
    "# Verileri bir Pandas DataFrame'e dönüştürün\n",
    "df = pd.DataFrame({'Detaylar': detaylar, 'Fiyatlar': fiyatlar, 'Konumlar': konumlar})\n"
   ]
  },
  {
   "cell_type": "code",
   "execution_count": 78,
   "metadata": {},
   "outputs": [],
   "source": [
    "df['Metrekare'] = df['Detaylar'].str.extract(r'(\\d+\\s+m2)')\n",
    "\n",
    "df['Kat Sayısı'] = df['Detaylar'].str.extract(r'(\\d+)\\. Kat')\n",
    "# Oda sayısını çıkar (Örneğin, \"4+1\" gibi)\n",
    "df['Oda Sayısı'] = df['Detaylar'].str.extract(r'(\\d+\\+\\d+)')\n",
    "\n",
    "# İlan tarihini çıkar (Örneğin, \"11 Eylül\" gibi)\n",
    "df['İlan Tarihi'] = df['Detaylar'].str.extract(r'(\\d+\\s+Eylül)')\n",
    "df['Il'] = df['Konumlar'].str.split('-').str[0]\n",
    "df['Ilce'] = df['Konumlar'].str.split('-').str[1]\n",
    "df['Semt'] = df['Konumlar'].str.split('-').str[2]\n",
    "df.drop('Detaylar', axis=1, inplace=True)\n",
    "df.drop('Konumlar', axis=1, inplace=True)"
   ]
  }
 ],
 "metadata": {
  "kernelspec": {
   "display_name": "Python 3",
   "language": "python",
   "name": "python3"
  },
  "language_info": {
   "codemirror_mode": {
    "name": "ipython",
    "version": 3
   },
   "file_extension": ".py",
   "mimetype": "text/x-python",
   "name": "python",
   "nbconvert_exporter": "python",
   "pygments_lexer": "ipython3",
   "version": "3.11.5"
  },
  "orig_nbformat": 4
 },
 "nbformat": 4,
 "nbformat_minor": 2
}
